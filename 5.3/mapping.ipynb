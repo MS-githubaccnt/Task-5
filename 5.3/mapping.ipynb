{
 "cells": [
  {
   "cell_type": "code",
   "execution_count": 4,
   "metadata": {},
   "outputs": [
    {
     "name": "stdout",
     "output_type": "stream",
     "text": [
      "        city city_ascii      lat      lng country iso2 iso3     admin_name  \\\n",
      "0      Delhi      Delhi  28.6100  77.2300   India   IN  IND          Delhi   \n",
      "1     Mumbai     Mumbai  19.0761  72.8775   India   IN  IND  MahÄrÄshtra   \n",
      "2   KolkÄta    Kolkata  22.5675  88.3700   India   IN  IND    West Bengal   \n",
      "3  Bangalore  Bangalore  12.9789  77.5917   India   IN  IND     KarnÄtaka   \n",
      "4    Chennai    Chennai  13.0825  80.2750   India   IN  IND    Tamil NÄdu   \n",
      "\n",
      "  capital  population          id  \n",
      "0   admin  32226000.0  1356872604  \n",
      "1   admin  24973000.0  1356226629  \n",
      "2   admin  18502000.0  1356060520  \n",
      "3   admin  15386000.0  1356410365  \n",
      "4   admin  12395000.0  1356374944  \n"
     ]
    }
   ],
   "source": [
    "import pandas as pd\n",
    "import numpy as np\n",
    "\n",
    "db=pd.read_csv('india_data.csv')\n",
    "print(db.head())"
   ]
  },
  {
   "cell_type": "code",
   "execution_count": 5,
   "metadata": {},
   "outputs": [
    {
     "name": "stdout",
     "output_type": "stream",
     "text": [
      "<class 'pandas.core.frame.DataFrame'>\n",
      "RangeIndex: 7031 entries, 0 to 7030\n",
      "Data columns (total 11 columns):\n",
      " #   Column      Non-Null Count  Dtype  \n",
      "---  ------      --------------  -----  \n",
      " 0   city        7031 non-null   object \n",
      " 1   city_ascii  7031 non-null   object \n",
      " 2   lat         7031 non-null   float64\n",
      " 3   lng         7031 non-null   float64\n",
      " 4   country     7031 non-null   object \n",
      " 5   iso2        7031 non-null   object \n",
      " 6   iso3        7031 non-null   object \n",
      " 7   admin_name  7031 non-null   object \n",
      " 8   capital     39 non-null     object \n",
      " 9   population  7027 non-null   float64\n",
      " 10  id          7031 non-null   int64  \n",
      "dtypes: float64(3), int64(1), object(7)\n",
      "memory usage: 604.4+ KB\n",
      "None\n"
     ]
    }
   ],
   "source": [
    "print(db.info())"
   ]
  },
  {
   "cell_type": "code",
   "execution_count": 20,
   "metadata": {},
   "outputs": [],
   "source": [
    "with open('try1.txt','a') as file:\n",
    "  file.write(\"\"\"<?xml version=\"1.0\" encoding=\"UTF-8\"?>\n",
    "<kml xmlns=\"http://www.opengis.net/kml/2.2\">\n",
    "  <Folder>\n",
    "    <name>LG TASK 5</name>\n",
    "             \"\"\")\n",
    "for index,row in db.iterrows():\n",
    " if(row[\"population\"]>=150000):\n",
    "  with open('try1.txt','a') as file:\n",
    "     file.write(f\"\"\"<GroundOverlay>\n",
    "                <name>Ground overlay at {row['city_ascii']}</name>\n",
    "                <Icon>\n",
    "                <href>https://raw.githubusercontent.com/MS-githubaccnt/images/refs/heads/main/try1.png</href>\n",
    "                </Icon>\n",
    "                <LatLonBox>\n",
    "                <north>{row['lat']+0.2}</north>\n",
    "                <south>{row['lat']-0.2}</south>\n",
    "                <east>{row['lng']+0.2}</east>\n",
    "                <west>{row['lng']-0.2}</west>\n",
    "                <rotation>0</rotation>\n",
    "                </LatLonBox>\n",
    "                </GroundOverlay>\n",
    "                \"\"\")\n",
    " elif(row['population']>=75000):\n",
    "   with open('try1.txt','a') as file:\n",
    "     file.write(f\"\"\"<GroundOverlay>\n",
    "                <name>Ground overlay at {row['city_ascii']}</name>\n",
    "                <Icon>\n",
    "                <href>https://raw.githubusercontent.com/MS-githubaccnt/images/refs/heads/main/try1.png</href>\n",
    "                </Icon>\n",
    "                <LatLonBox>\n",
    "                <north>{row['lat']+0.1}</north>\n",
    "                <south>{row['lat']-0.1}</south>\n",
    "                <east>{row['lng']+0.1}</east>\n",
    "                <west>{row['lng']-0.1}</west>\n",
    "                <rotation>0</rotation>\n",
    "                </LatLonBox>\n",
    "                </GroundOverlay>\n",
    "                \"\"\")\n",
    "with open('try1.txt','a') as file:\n",
    "  file.write(\"\"\"\n",
    "</Folder>\n",
    "</kml>\n",
    "             \"\"\")"
   ]
  },
  {
   "cell_type": "code",
   "execution_count": null,
   "metadata": {},
   "outputs": [],
   "source": []
  }
 ],
 "metadata": {
  "kernelspec": {
   "display_name": "Python 3",
   "language": "python",
   "name": "python3"
  },
  "language_info": {
   "codemirror_mode": {
    "name": "ipython",
    "version": 3
   },
   "file_extension": ".py",
   "mimetype": "text/x-python",
   "name": "python",
   "nbconvert_exporter": "python",
   "pygments_lexer": "ipython3",
   "version": "3.12.1"
  }
 },
 "nbformat": 4,
 "nbformat_minor": 2
}
